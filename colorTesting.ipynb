{
 "cells": [
  {
   "cell_type": "code",
   "execution_count": 12,
   "id": "unknown-aviation",
   "metadata": {},
   "outputs": [],
   "source": [
    "import pandas as pd\n",
    "import os\n",
    "\n",
    "root = r'C:\\Users\\Default.DESKTOP-6F3BTUF\\Desktop'\n",
    "fileName = 'colorTest.xlsx'\n",
    "\n",
    "ws = pd.read_excel(os.path.join(root, fileName), sheet_name='Sheet1')\n",
    "df = pd.DataFrame(ws)\n",
    "\n",
    "\n",
    "def color_red(val):\n",
    "    color ='yellow' if val < 0.5 else None\n",
    "    return 'background-color: %s' % color\n",
    "\n",
    "\n",
    "s = df.style.applymap(color_red)\n",
    "s.to_excel(os.path.join(root, 'colorTestResult.xlsx'))\n",
    "\n",
    "#ss.to_csv(os.path.join(root, 'colorTestResult.csv'), index=False, encoding='utf-8-sig')\n"
   ]
  },
  {
   "cell_type": "code",
   "execution_count": null,
   "id": "pressed-depression",
   "metadata": {},
   "outputs": [],
   "source": []
  }
 ],
 "metadata": {
  "kernelspec": {
   "display_name": "Python 3",
   "language": "python",
   "name": "python3"
  },
  "language_info": {
   "codemirror_mode": {
    "name": "ipython",
    "version": 3
   },
   "file_extension": ".py",
   "mimetype": "text/x-python",
   "name": "python",
   "nbconvert_exporter": "python",
   "pygments_lexer": "ipython3",
   "version": "3.7.9"
  }
 },
 "nbformat": 4,
 "nbformat_minor": 5
}
