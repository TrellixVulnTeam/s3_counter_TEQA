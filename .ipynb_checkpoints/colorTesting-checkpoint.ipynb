{
 "cells": [
  {
   "cell_type": "code",
   "execution_count": 11,
   "id": "british-backup",
   "metadata": {},
   "outputs": [
    {
     "ename": "SyntaxError",
     "evalue": "invalid syntax (<ipython-input-11-67dc35198849>, line 12)",
     "output_type": "error",
     "traceback": [
      "\u001b[1;36m  File \u001b[1;32m\"<ipython-input-11-67dc35198849>\"\u001b[1;36m, line \u001b[1;32m12\u001b[0m\n\u001b[1;33m    color ='yellow' if val < 0.5 else\u001b[0m\n\u001b[1;37m                                      ^\u001b[0m\n\u001b[1;31mSyntaxError\u001b[0m\u001b[1;31m:\u001b[0m invalid syntax\n"
     ]
    }
   ],
   "source": [
    "import pandas as pd\n",
    "import os\n",
    "\n",
    "root = r'C:\\Users\\Default.DESKTOP-6F3BTUF\\Desktop'\n",
    "fileName = 'colorTest.xlsx'\n",
    "\n",
    "ws = pd.read_excel(os.path.join(root, fileName), sheet_name='Sheet1')\n",
    "df = pd.DataFrame(ws)\n",
    "\n",
    "\n",
    "def color_red(val):\n",
    "    color ='yellow' if val < 0.5 else None\n",
    "    return 'background-color: %s' % color\n",
    "\n",
    "\n",
    "s = df.style.applymap(color_red)\n",
    "s.to_excel(os.path.join(root, 'colorTestResult.xlsx'))\n",
    "\n",
    "#ss.to_csv(os.path.join(root, 'colorTestResult.csv'), index=False, encoding='utf-8-sig')\n"
   ]
  },
  {
   "cell_type": "code",
   "execution_count": null,
   "id": "realistic-blair",
   "metadata": {},
   "outputs": [],
   "source": []
  }
 ],
 "metadata": {
  "kernelspec": {
   "display_name": "Python 3",
   "language": "python",
   "name": "python3"
  },
  "language_info": {
   "codemirror_mode": {
    "name": "ipython",
    "version": 3
   },
   "file_extension": ".py",
   "mimetype": "text/x-python",
   "name": "python",
   "nbconvert_exporter": "python",
   "pygments_lexer": "ipython3",
   "version": "3.7.9"
  }
 },
 "nbformat": 4,
 "nbformat_minor": 5
}
